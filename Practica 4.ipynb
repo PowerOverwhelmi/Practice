{
 "cells": [
  {
   "cell_type": "code",
   "execution_count": 15,
   "metadata": {
    "collapsed": false
   },
   "outputs": [
    {
     "name": "stdout",
     "output_type": "stream",
     "text": [
      "Inserte un número cualquiera\n",
      "137\n",
      "[1, 137]\n"
     ]
    }
   ],
   "source": [
    "num=int(input(\"Inserte un número cualquiera\"+\"\\n\"))\n",
    "lista_posible=range(1,num+1)\n",
    "divisores=[]\n",
    "for x in lista_posible:\n",
    "    if num%x==0:\n",
    "        divisores.append(x)\n",
    "print(divisores)"
   ]
  }
 ],
 "metadata": {
  "kernelspec": {
   "display_name": "Python 3",
   "language": "python",
   "name": "python3"
  },
  "language_info": {
   "codemirror_mode": {
    "name": "ipython",
    "version": 3
   },
   "file_extension": ".py",
   "mimetype": "text/x-python",
   "name": "python",
   "nbconvert_exporter": "python",
   "pygments_lexer": "ipython3",
   "version": "3.5.1"
  }
 },
 "nbformat": 4,
 "nbformat_minor": 0
}
